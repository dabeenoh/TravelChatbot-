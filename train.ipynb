{
 "cells": [
  {
   "cell_type": "code",
   "execution_count": 2,
   "metadata": {},
   "outputs": [],
   "source": [
    "import numpy as np\n",
    "import matplotlib.pyplot as plt\n",
    "from scratch import DNN, LoadingData"
   ]
  },
  {
   "cell_type": "code",
   "execution_count": 3,
   "metadata": {},
   "outputs": [],
   "source": [
    "data = LoadingData()\n",
    "model_dnn = DNN()\n",
    "\n",
    "model_dnn.build(data.X_train,data.Y_train)\n",
    "\n",
    "X = model_dnn.get_input_array(data.X_train)\n",
    "Y = data.Y_train"
   ]
  },
  {
   "cell_type": "code",
   "execution_count": 4,
   "metadata": {},
   "outputs": [
    {
     "name": "stdout",
     "output_type": "stream",
     "text": [
      "Iteration: 0.00000 - crossentropy loss: 0.66829 - accuracy: 0.00000\n",
      "Iteration: 50.00000 - crossentropy loss: 0.80116 - accuracy: 0.00000\n",
      "Iteration: 100.00000 - crossentropy loss: 1.00175 - accuracy: 0.00000\n",
      "Iteration: 150.00000 - crossentropy loss: 1.37559 - accuracy: 0.00000\n",
      "Iteration: 200.00000 - crossentropy loss: 1.81853 - accuracy: 0.00000\n",
      "Iteration: 250.00000 - crossentropy loss: 1.99979 - accuracy: 0.00000\n",
      "Iteration: 300.00000 - crossentropy loss: 2.03738 - accuracy: 0.00000\n",
      "Iteration: 350.00000 - crossentropy loss: 2.04336 - accuracy: 0.00000\n",
      "Iteration: 400.00000 - crossentropy loss: 2.04374 - accuracy: 0.00000\n",
      "Iteration: 450.00000 - crossentropy loss: 2.04323 - accuracy: 0.00000\n",
      "Iteration: 500.00000 - crossentropy loss: 2.04268 - accuracy: 0.00000\n",
      "Iteration: 550.00000 - crossentropy loss: 2.04211 - accuracy: 0.00000\n",
      "Iteration: 600.00000 - crossentropy loss: 2.04154 - accuracy: 0.00000\n",
      "Iteration: 650.00000 - crossentropy loss: 2.04095 - accuracy: 0.00000\n",
      "Iteration: 700.00000 - crossentropy loss: 2.04038 - accuracy: 0.00000\n",
      "Iteration: 750.00000 - crossentropy loss: 2.03981 - accuracy: 0.00000\n",
      "Iteration: 800.00000 - crossentropy loss: 2.03924 - accuracy: 0.00000\n",
      "Iteration: 850.00000 - crossentropy loss: 2.03862 - accuracy: 0.00000\n",
      "Iteration: 900.00000 - crossentropy loss: 2.03795 - accuracy: 0.00000\n",
      "Iteration: 950.00000 - crossentropy loss: 2.03726 - accuracy: 0.00000\n",
      "Iteration: 1000.00000 - crossentropy loss: 2.03653 - accuracy: 0.00000\n",
      "Iteration: 1050.00000 - crossentropy loss: 2.03569 - accuracy: 0.00000\n",
      "Iteration: 1100.00000 - crossentropy loss: 2.03479 - accuracy: 0.00000\n",
      "Iteration: 1150.00000 - crossentropy loss: 2.03381 - accuracy: 0.00000\n",
      "Iteration: 1200.00000 - crossentropy loss: 2.03276 - accuracy: 0.00000\n",
      "Iteration: 1250.00000 - crossentropy loss: 2.03156 - accuracy: 0.00000\n",
      "Iteration: 1300.00000 - crossentropy loss: 2.03028 - accuracy: 0.00000\n",
      "Iteration: 1350.00000 - crossentropy loss: 2.02886 - accuracy: 0.00000\n",
      "Iteration: 1400.00000 - crossentropy loss: 2.02727 - accuracy: 0.00000\n",
      "Iteration: 1450.00000 - crossentropy loss: 2.02547 - accuracy: 0.00000\n",
      "Iteration: 1500.00000 - crossentropy loss: 2.02341 - accuracy: 0.00000\n",
      "Iteration: 1550.00000 - crossentropy loss: 2.02105 - accuracy: 0.00000\n",
      "Iteration: 1600.00000 - crossentropy loss: 2.01832 - accuracy: 0.00000\n",
      "Iteration: 1650.00000 - crossentropy loss: 2.01516 - accuracy: 0.00000\n",
      "Iteration: 1700.00000 - crossentropy loss: 2.01158 - accuracy: 0.00000\n",
      "Iteration: 1750.00000 - crossentropy loss: 2.00729 - accuracy: 0.00000\n",
      "Iteration: 1800.00000 - crossentropy loss: 2.00228 - accuracy: 0.00000\n",
      "Iteration: 1850.00000 - crossentropy loss: 1.99632 - accuracy: 0.00000\n",
      "Iteration: 1900.00000 - crossentropy loss: 1.98913 - accuracy: 0.00000\n",
      "Iteration: 1950.00000 - crossentropy loss: 1.98028 - accuracy: 0.00000\n",
      "Iteration: 2000.00000 - crossentropy loss: 1.96931 - accuracy: 0.00000\n",
      "Iteration: 2050.00000 - crossentropy loss: 1.95550 - accuracy: 0.00000\n",
      "Iteration: 2100.00000 - crossentropy loss: 1.93797 - accuracy: 0.00000\n",
      "Iteration: 2150.00000 - crossentropy loss: 1.91578 - accuracy: 0.00000\n",
      "Iteration: 2200.00000 - crossentropy loss: 1.88794 - accuracy: 0.00000\n",
      "Iteration: 2250.00000 - crossentropy loss: 1.85413 - accuracy: 0.00000\n",
      "Iteration: 2300.00000 - crossentropy loss: 1.81462 - accuracy: 0.00000\n",
      "Iteration: 2350.00000 - crossentropy loss: 1.77144 - accuracy: 0.03005\n",
      "Iteration: 2400.00000 - crossentropy loss: 1.72809 - accuracy: 0.06831\n",
      "Iteration: 2450.00000 - crossentropy loss: 1.68641 - accuracy: 0.07923\n",
      "Iteration: 2500.00000 - crossentropy loss: 1.64789 - accuracy: 0.09153\n",
      "Iteration: 2550.00000 - crossentropy loss: 1.61373 - accuracy: 0.09563\n",
      "Iteration: 2600.00000 - crossentropy loss: 1.58372 - accuracy: 0.09699\n",
      "Iteration: 2650.00000 - crossentropy loss: 1.55610 - accuracy: 0.10246\n",
      "Iteration: 2700.00000 - crossentropy loss: 1.53091 - accuracy: 0.10383\n",
      "Iteration: 2750.00000 - crossentropy loss: 1.50864 - accuracy: 0.10792\n",
      "Iteration: 2800.00000 - crossentropy loss: 1.48759 - accuracy: 0.11066\n",
      "Iteration: 2850.00000 - crossentropy loss: 1.46768 - accuracy: 0.11339\n",
      "Iteration: 2900.00000 - crossentropy loss: 1.44882 - accuracy: 0.11339\n",
      "Iteration: 2950.00000 - crossentropy loss: 1.42962 - accuracy: 0.11612\n",
      "Iteration: 3000.00000 - crossentropy loss: 1.41005 - accuracy: 0.11612\n",
      "Iteration: 3050.00000 - crossentropy loss: 1.38924 - accuracy: 0.12022\n",
      "Iteration: 3100.00000 - crossentropy loss: 1.36864 - accuracy: 0.12432\n",
      "Iteration: 3150.00000 - crossentropy loss: 1.34721 - accuracy: 0.12978\n",
      "Iteration: 3200.00000 - crossentropy loss: 1.32576 - accuracy: 0.13388\n",
      "Iteration: 3250.00000 - crossentropy loss: 1.30320 - accuracy: 0.13525\n",
      "Iteration: 3300.00000 - crossentropy loss: 1.28034 - accuracy: 0.13934\n",
      "Iteration: 3350.00000 - crossentropy loss: 1.25658 - accuracy: 0.14891\n",
      "Iteration: 3400.00000 - crossentropy loss: 1.23157 - accuracy: 0.15027\n",
      "Iteration: 3450.00000 - crossentropy loss: 1.20691 - accuracy: 0.15574\n",
      "Iteration: 3500.00000 - crossentropy loss: 1.18131 - accuracy: 0.15847\n",
      "Iteration: 3550.00000 - crossentropy loss: 1.15601 - accuracy: 0.16803\n",
      "Iteration: 3600.00000 - crossentropy loss: 1.13008 - accuracy: 0.19809\n",
      "Iteration: 3650.00000 - crossentropy loss: 1.10397 - accuracy: 0.23770\n",
      "Iteration: 3700.00000 - crossentropy loss: 1.07717 - accuracy: 0.26776\n",
      "Iteration: 3750.00000 - crossentropy loss: 1.04896 - accuracy: 0.28279\n",
      "Iteration: 3800.00000 - crossentropy loss: 1.02124 - accuracy: 0.28825\n",
      "Iteration: 3850.00000 - crossentropy loss: 0.99263 - accuracy: 0.29508\n",
      "Iteration: 3900.00000 - crossentropy loss: 0.96429 - accuracy: 0.30055\n",
      "Iteration: 3950.00000 - crossentropy loss: 0.93568 - accuracy: 0.30601\n",
      "Iteration: 4000.00000 - crossentropy loss: 0.90710 - accuracy: 0.30874\n",
      "Iteration: 4050.00000 - crossentropy loss: 0.87830 - accuracy: 0.31284\n",
      "Iteration: 4100.00000 - crossentropy loss: 0.84898 - accuracy: 0.33060\n",
      "Iteration: 4150.00000 - crossentropy loss: 0.81919 - accuracy: 0.36885\n",
      "Iteration: 4200.00000 - crossentropy loss: 0.78852 - accuracy: 0.40984\n",
      "Iteration: 4250.00000 - crossentropy loss: 0.75715 - accuracy: 0.44809\n",
      "Iteration: 4300.00000 - crossentropy loss: 0.72550 - accuracy: 0.48361\n",
      "Iteration: 4350.00000 - crossentropy loss: 0.69404 - accuracy: 0.51093\n",
      "Iteration: 4400.00000 - crossentropy loss: 0.66381 - accuracy: 0.55328\n",
      "Iteration: 4450.00000 - crossentropy loss: 0.63516 - accuracy: 0.60109\n",
      "Iteration: 4500.00000 - crossentropy loss: 0.60804 - accuracy: 0.62158\n",
      "Iteration: 4550.00000 - crossentropy loss: 0.58186 - accuracy: 0.65027\n",
      "Iteration: 4600.00000 - crossentropy loss: 0.55679 - accuracy: 0.67896\n",
      "Iteration: 4650.00000 - crossentropy loss: 0.53284 - accuracy: 0.70628\n",
      "Iteration: 4700.00000 - crossentropy loss: 0.50972 - accuracy: 0.72814\n",
      "Iteration: 4750.00000 - crossentropy loss: 0.48736 - accuracy: 0.75410\n",
      "Iteration: 4800.00000 - crossentropy loss: 0.46432 - accuracy: 0.78279\n",
      "Iteration: 4850.00000 - crossentropy loss: 0.44241 - accuracy: 0.80191\n",
      "Iteration: 4900.00000 - crossentropy loss: 0.42127 - accuracy: 0.81967\n",
      "Iteration: 4950.00000 - crossentropy loss: 0.40087 - accuracy: 0.83197\n",
      "Iteration: 5000.00000 - crossentropy loss: 0.38139 - accuracy: 0.84426\n",
      "Iteration: 5050.00000 - crossentropy loss: 0.36337 - accuracy: 0.84973\n",
      "Iteration: 5100.00000 - crossentropy loss: 0.34672 - accuracy: 0.85929\n",
      "Iteration: 5150.00000 - crossentropy loss: 0.33068 - accuracy: 0.86885\n",
      "Iteration: 5200.00000 - crossentropy loss: 0.31635 - accuracy: 0.87705\n",
      "Iteration: 5250.00000 - crossentropy loss: 0.30323 - accuracy: 0.87978\n",
      "Iteration: 5300.00000 - crossentropy loss: 0.29099 - accuracy: 0.88388\n",
      "Iteration: 5350.00000 - crossentropy loss: 0.27984 - accuracy: 0.88798\n",
      "Iteration: 5400.00000 - crossentropy loss: 0.26924 - accuracy: 0.89344\n",
      "Iteration: 5450.00000 - crossentropy loss: 0.25905 - accuracy: 0.89481\n",
      "Iteration: 5500.00000 - crossentropy loss: 0.25019 - accuracy: 0.89617\n",
      "Iteration: 5550.00000 - crossentropy loss: 0.24184 - accuracy: 0.90164\n",
      "Iteration: 5600.00000 - crossentropy loss: 0.23442 - accuracy: 0.91120\n",
      "Iteration: 5650.00000 - crossentropy loss: 0.22708 - accuracy: 0.91393\n",
      "Iteration: 5700.00000 - crossentropy loss: 0.22065 - accuracy: 0.91530\n",
      "Iteration: 5750.00000 - crossentropy loss: 0.21415 - accuracy: 0.91667\n"
     ]
    },
    {
     "name": "stdout",
     "output_type": "stream",
     "text": [
      "Iteration: 5800.00000 - crossentropy loss: 0.20870 - accuracy: 0.91803\n",
      "Iteration: 5850.00000 - crossentropy loss: 0.20327 - accuracy: 0.91940\n",
      "Iteration: 5900.00000 - crossentropy loss: 0.19828 - accuracy: 0.92213\n",
      "Iteration: 5950.00000 - crossentropy loss: 0.19336 - accuracy: 0.92213\n",
      "Iteration: 6000.00000 - crossentropy loss: 0.18803 - accuracy: 0.92350\n",
      "Iteration: 6050.00000 - crossentropy loss: 0.18359 - accuracy: 0.92623\n",
      "Iteration: 6100.00000 - crossentropy loss: 0.17927 - accuracy: 0.92623\n",
      "Iteration: 6150.00000 - crossentropy loss: 0.17508 - accuracy: 0.92623\n",
      "Iteration: 6200.00000 - crossentropy loss: 0.17096 - accuracy: 0.92623\n",
      "Iteration: 6250.00000 - crossentropy loss: 0.16707 - accuracy: 0.92896\n",
      "Iteration: 6300.00000 - crossentropy loss: 0.16315 - accuracy: 0.93033\n",
      "Iteration: 6350.00000 - crossentropy loss: 0.15850 - accuracy: 0.93169\n",
      "Iteration: 6400.00000 - crossentropy loss: 0.15420 - accuracy: 0.93306\n",
      "Iteration: 6450.00000 - crossentropy loss: 0.14935 - accuracy: 0.93306\n",
      "Iteration: 6500.00000 - crossentropy loss: 0.14489 - accuracy: 0.93306\n",
      "Iteration: 6550.00000 - crossentropy loss: 0.14071 - accuracy: 0.93443\n",
      "Iteration: 6600.00000 - crossentropy loss: 0.13676 - accuracy: 0.93443\n",
      "Iteration: 6650.00000 - crossentropy loss: 0.13292 - accuracy: 0.93443\n",
      "Iteration: 6700.00000 - crossentropy loss: 0.12935 - accuracy: 0.93443\n",
      "Iteration: 6750.00000 - crossentropy loss: 0.12600 - accuracy: 0.93443\n",
      "Iteration: 6800.00000 - crossentropy loss: 0.12297 - accuracy: 0.93443\n",
      "Iteration: 6850.00000 - crossentropy loss: 0.11967 - accuracy: 0.93306\n",
      "Iteration: 6900.00000 - crossentropy loss: 0.11689 - accuracy: 0.93306\n",
      "Iteration: 6950.00000 - crossentropy loss: 0.11378 - accuracy: 0.93306\n",
      "Iteration: 7000.00000 - crossentropy loss: 0.11107 - accuracy: 0.93306\n",
      "Iteration: 7050.00000 - crossentropy loss: 0.10832 - accuracy: 0.93306\n",
      "Iteration: 7100.00000 - crossentropy loss: 0.10589 - accuracy: 0.93306\n",
      "Iteration: 7150.00000 - crossentropy loss: 0.10369 - accuracy: 0.93306\n",
      "Iteration: 7200.00000 - crossentropy loss: 0.10071 - accuracy: 0.93306\n",
      "Iteration: 7250.00000 - crossentropy loss: 0.09809 - accuracy: 0.93306\n",
      "Iteration: 7300.00000 - crossentropy loss: 0.09563 - accuracy: 0.93579\n",
      "Iteration: 7350.00000 - crossentropy loss: 0.09341 - accuracy: 0.94126\n",
      "Iteration: 7400.00000 - crossentropy loss: 0.09211 - accuracy: 0.94262\n",
      "Iteration: 7450.00000 - crossentropy loss: 0.08909 - accuracy: 0.95628\n",
      "Iteration: 7500.00000 - crossentropy loss: 0.08705 - accuracy: 0.96175\n",
      "Iteration: 7550.00000 - crossentropy loss: 0.08511 - accuracy: 0.96311\n",
      "Iteration: 7600.00000 - crossentropy loss: 0.08332 - accuracy: 0.96311\n",
      "Iteration: 7650.00000 - crossentropy loss: 0.08147 - accuracy: 0.98907\n",
      "Iteration: 7700.00000 - crossentropy loss: 0.08008 - accuracy: 0.98907\n",
      "Iteration: 7750.00000 - crossentropy loss: 0.07817 - accuracy: 0.98907\n",
      "Iteration: 7800.00000 - crossentropy loss: 0.07661 - accuracy: 0.98907\n",
      "Iteration: 7850.00000 - crossentropy loss: 0.07505 - accuracy: 0.99044\n",
      "Iteration: 7900.00000 - crossentropy loss: 0.07354 - accuracy: 0.99044\n",
      "Iteration: 7950.00000 - crossentropy loss: 0.07292 - accuracy: 0.98907\n",
      "Iteration: 8000.00000 - crossentropy loss: 0.07092 - accuracy: 0.99044\n",
      "Iteration: 8050.00000 - crossentropy loss: 0.06942 - accuracy: 0.99044\n",
      "Iteration: 8100.00000 - crossentropy loss: 0.06894 - accuracy: 0.99180\n",
      "Iteration: 8150.00000 - crossentropy loss: 0.06696 - accuracy: 0.99180\n",
      "Iteration: 8200.00000 - crossentropy loss: 0.06586 - accuracy: 0.99180\n",
      "Iteration: 8250.00000 - crossentropy loss: 0.06462 - accuracy: 0.99180\n",
      "Iteration: 8300.00000 - crossentropy loss: 0.06356 - accuracy: 0.99180\n",
      "Iteration: 8350.00000 - crossentropy loss: 0.06246 - accuracy: 0.99180\n",
      "Iteration: 8400.00000 - crossentropy loss: 0.06147 - accuracy: 0.99180\n",
      "Iteration: 8450.00000 - crossentropy loss: 0.06052 - accuracy: 0.99180\n",
      "Iteration: 8500.00000 - crossentropy loss: 0.05953 - accuracy: 0.99180\n",
      "Iteration: 8550.00000 - crossentropy loss: 0.05862 - accuracy: 0.99180\n",
      "Iteration: 8600.00000 - crossentropy loss: 0.05773 - accuracy: 0.99180\n",
      "Iteration: 8650.00000 - crossentropy loss: 0.05693 - accuracy: 0.99180\n",
      "Iteration: 8700.00000 - crossentropy loss: 0.05605 - accuracy: 0.99180\n",
      "Iteration: 8750.00000 - crossentropy loss: 0.05538 - accuracy: 0.99180\n",
      "Iteration: 8800.00000 - crossentropy loss: 0.05448 - accuracy: 0.99180\n",
      "Iteration: 8850.00000 - crossentropy loss: 0.05378 - accuracy: 0.99180\n",
      "Iteration: 8900.00000 - crossentropy loss: 0.05306 - accuracy: 0.99180\n",
      "Iteration: 8950.00000 - crossentropy loss: 0.05236 - accuracy: 0.99180\n",
      "Iteration: 9000.00000 - crossentropy loss: 0.05160 - accuracy: 0.99180\n",
      "Iteration: 9050.00000 - crossentropy loss: 0.05087 - accuracy: 0.99180\n",
      "Iteration: 9100.00000 - crossentropy loss: 0.05032 - accuracy: 0.99180\n",
      "Iteration: 9150.00000 - crossentropy loss: 0.04960 - accuracy: 0.99180\n",
      "Iteration: 9200.00000 - crossentropy loss: 0.04897 - accuracy: 0.99180\n",
      "Iteration: 9250.00000 - crossentropy loss: 0.04830 - accuracy: 0.99180\n",
      "Iteration: 9300.00000 - crossentropy loss: 0.04776 - accuracy: 0.99180\n",
      "Iteration: 9350.00000 - crossentropy loss: 0.04713 - accuracy: 0.99180\n",
      "Iteration: 9400.00000 - crossentropy loss: 0.04660 - accuracy: 0.99180\n",
      "Iteration: 9450.00000 - crossentropy loss: 0.04604 - accuracy: 0.99180\n",
      "Iteration: 9500.00000 - crossentropy loss: 0.04547 - accuracy: 0.99180\n",
      "Iteration: 9550.00000 - crossentropy loss: 0.04501 - accuracy: 0.99180\n",
      "Iteration: 9600.00000 - crossentropy loss: 0.04445 - accuracy: 0.99180\n",
      "Iteration: 9650.00000 - crossentropy loss: 0.04398 - accuracy: 0.99180\n",
      "Iteration: 9700.00000 - crossentropy loss: 0.04348 - accuracy: 0.99180\n",
      "Iteration: 9750.00000 - crossentropy loss: 0.04294 - accuracy: 0.99317\n",
      "Iteration: 9800.00000 - crossentropy loss: 0.04246 - accuracy: 0.99317\n",
      "Iteration: 9850.00000 - crossentropy loss: 0.04193 - accuracy: 0.99317\n",
      "Iteration: 9900.00000 - crossentropy loss: 0.04146 - accuracy: 0.99317\n",
      "Iteration: 9950.00000 - crossentropy loss: 0.04101 - accuracy: 0.99317\n"
     ]
    }
   ],
   "source": [
    "model_dnn.train(X,Y,epochs=10000,verbose=True)\n",
    "model_dnn.save()"
   ]
  },
  {
   "cell_type": "code",
   "execution_count": 5,
   "metadata": {},
   "outputs": [],
   "source": [
    "X_test_, Y_test_ = model_dnn.get_input_array(data.X_test),data.Y_test # text data (test)\n",
    "Y_pred = model_dnn.predict(X_test_)"
   ]
  },
  {
   "cell_type": "code",
   "execution_count": 6,
   "metadata": {},
   "outputs": [
    {
     "data": {
      "image/png": "[encoded data removed]",
      "text/plain": [
       "<Figure size 432x288 with 2 Axes>"
      ]
     },
     "metadata": {
      "needs_background": "light"
     },
     "output_type": "display_data"
    }
   ],
   "source": [
    "fig, (ax1,ax2) = plt.subplots(1,2)\n",
    "fig.suptitle(\"Training procedure for FCNN model\")\n",
    "ax1.set_title('Loss')\n",
    "ax1.plot(model_dnn.cost_history, label='train')\n",
    "ax1.legend()\n",
    "ax2.set_title('Accuracy')\n",
    "ax2.plot(model_dnn.accuracy_history, label='train')\n",
    "ax2.legend()\n",
    "plt.savefig('results/training.png',dpi=144)"
   ]
  },
  {
   "cell_type": "code",
   "execution_count": 7,
   "metadata": {},
   "outputs": [
    {
     "name": "stdout",
     "output_type": "stream",
     "text": [
      "Test accuracy: 0.7577639751552795\n"
     ]
    }
   ],
   "source": [
    "loss, accuracy = model_dnn.evaluate(Y_pred,Y_test_)\n",
    "print(\"Test accuracy: %s\"%accuracy)"
   ]
  },
  {
   "cell_type": "code",
   "execution_count": 8,
   "metadata": {},
   "outputs": [
    {
     "name": "stdout",
     "output_type": "stream",
     "text": [
      "relaxation activities\n",
      "0.7400009470066138\n"
     ]
    }
   ],
   "source": [
    "sentence = \"Could you show me a massage parlor that specializes in Traditional Chinese Medicine?\"\n",
    "prob = model_dnn.predict(model_dnn.get_input_array([sentence]))\n",
    "index = np.argmax(prob[0])\n",
    "print(data.cat_to_tag[index])\n",
    "print(prob[0][index])"
   ]
  },
  {
   "cell_type": "code",
   "execution_count": null,
   "metadata": {},
   "outputs": [],
   "source": []
  }
 ],
 "metadata": {
  "kernelspec": {
   "display_name": "Python 3",
   "language": "python",
   "name": "python3"
  },
  "language_info": {
   "codemirror_mode": {
    "name": "ipython",
    "version": 3
   },
   "file_extension": ".py",
   "mimetype": "text/x-python",
   "name": "python",
   "nbconvert_exporter": "python",
   "pygments_lexer": "ipython3",
   "version": "3.8.5"
  }
 },
 "nbformat": 4,
 "nbformat_minor": 4
}
